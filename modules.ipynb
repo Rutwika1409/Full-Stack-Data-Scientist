{
 "cells": [
  {
   "cell_type": "code",
   "execution_count": 9,
   "id": "03c95a09",
   "metadata": {},
   "outputs": [
    {
     "name": "stdout",
     "output_type": "stream",
     "text": [
      "iu8c\"n\\\"D}\n"
     ]
    }
   ],
   "source": [
    "# 1. Random Password Generator (`random`, `string`)\n",
    "# * Input: `length=6`\n",
    "# * Output: `\"aB9@xQ\"`\n",
    "import random\n",
    "import string\n",
    "def passGen(n):\n",
    "    chars = string.ascii_letters + string.digits + string.punctuation\n",
    "    word = ''.join(random.choice(chars) for _ in range(n))\n",
    "    return word\n",
    "n = int(input(\"Enter word length: \"))\n",
    "print(passGen(n))\n",
    "\n"
   ]
  },
  {
   "cell_type": "code",
   "execution_count": 10,
   "id": "c742959a",
   "metadata": {},
   "outputs": [
    {
     "name": "stdout",
     "output_type": "stream",
     "text": [
      "(2.23606797749979, 120, -0.9589242746631385, 0.28366218546322625)\n"
     ]
    }
   ],
   "source": [
    "# 2. Simple Calculator with `math`\n",
    "# * Perform sqrt, factorial, sin, cos.\n",
    "# * Input: `sqrt(25)`\n",
    "# * Output: `5.0`\n",
    "import math\n",
    "def maths(n):\n",
    "    return math.sqrt(n), math.factorial(n), math.sin(n), math.cos(n)\n",
    "n = int(input(\"Enter number:\"))\n",
    "print(maths(n))"
   ]
  },
  {
   "cell_type": "code",
   "execution_count": 13,
   "id": "5d6d4c06",
   "metadata": {},
   "outputs": [
    {
     "name": "stdout",
     "output_type": "stream",
     "text": [
      "Counter({'cat': 2, 'dog': 1})\n"
     ]
    }
   ],
   "source": [
    "# 3. Word Frequency Counter (`collections.Counter`)\n",
    "# * Input: `\"cat dog cat\"`\n",
    "# * Output: `{'cat':2,'dog':1}`\n",
    "from collections import Counter\n",
    "def Freq(s):\n",
    "    c = Counter(s)\n",
    "    return c\n",
    "\n",
    "s = input(\"Enter series: \").split()\n",
    "print(Freq(s))"
   ]
  },
  {
   "cell_type": "code",
   "execution_count": 17,
   "id": "3a37ef5c",
   "metadata": {},
   "outputs": [
    {
     "name": "stdout",
     "output_type": "stream",
     "text": [
      "Weather : Rainy ,Temp :  22\n"
     ]
    }
   ],
   "source": [
    "# 4. Weather Simulator (`random`)\n",
    "# * Input: None\n",
    "# * Output: `\"Weather: Sunny, Temp: 32°C\"`\n",
    "import random\n",
    "def weather():\n",
    "    climate = ['Sunny', 'Rainy', 'Humid']\n",
    "    w = random.choice(climate)\n",
    "    t = random.randint(12,45)\n",
    "    return w,t\n",
    "w,t = weather()\n",
    "print(\"Weather :\",w, \",Temp : \",t)\n"
   ]
  },
  {
   "cell_type": "code",
   "execution_count": null,
   "id": "59eac874",
   "metadata": {},
   "outputs": [],
   "source": [
    "# 5. Timer Program (`time`)\n",
    "# * Input: `countdown(5)`\n",
    "# * Output:\n",
    "#   ```\n",
    "#   5  \n",
    "#   4  \n",
    "#   3  \n",
    "#   2  \n",
    "#   1  \n",
    "#   Time’s up!\n",
    "import time\n",
    "def countdown():\n",
    "    "
   ]
  }
 ],
 "metadata": {
  "kernelspec": {
   "display_name": "Python 3",
   "language": "python",
   "name": "python3"
  },
  "language_info": {
   "codemirror_mode": {
    "name": "ipython",
    "version": 3
   },
   "file_extension": ".py",
   "mimetype": "text/x-python",
   "name": "python",
   "nbconvert_exporter": "python",
   "pygments_lexer": "ipython3",
   "version": "3.11.0"
  }
 },
 "nbformat": 4,
 "nbformat_minor": 5
}

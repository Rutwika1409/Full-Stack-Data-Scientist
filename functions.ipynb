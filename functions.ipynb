{
 "cells": [
  {
   "cell_type": "code",
   "execution_count": 17,
   "id": "3cb37cf1",
   "metadata": {},
   "outputs": [
    {
     "name": "stdout",
     "output_type": "stream",
     "text": [
      "[2, 3, 5, 7, 11, 13, 17, 19]\n"
     ]
    }
   ],
   "source": [
    "# 1. Prime Number Finder\n",
    "#    * Function that returns all prime numbers up to `n`.\n",
    "#    * Input: `n = 20`\n",
    "#    * Output: `[2, 3, 5, 7, 11, 13, 17, 19]`\n",
    "def isPrime(n):\n",
    "    li =[]\n",
    "    for i in range(2,n+1):\n",
    "        for j in range(2,i):\n",
    "            if i%j==0:\n",
    "                break\n",
    "        else:\n",
    "            li.append(i)\n",
    "    return li\n",
    "print(isPrime(20))\n",
    "\n"
   ]
  },
  {
   "cell_type": "code",
   "execution_count": 26,
   "id": "fbfc4d0f",
   "metadata": {},
   "outputs": [
    {
     "name": "stdout",
     "output_type": "stream",
     "text": [
      "never odd or even\n",
      "neve ro ddo reven\n",
      "True\n"
     ]
    }
   ],
   "source": [
    "# 2. Palindrome Checker\n",
    "#    * Check if a string is palindrome (ignoring spaces & case).\n",
    "#    * Input: `\"Never odd or even\"`\n",
    "#    * Output: `True`\n",
    "def isPalindrome(s):\n",
    "    p = s[::-1]\n",
    "    print(p)\n",
    "    for i in range(len(s)):\n",
    "        if s[i].isalpha() and p[i].isalpha():\n",
    "            if s[i]==p[i]:\n",
    "                return True\n",
    "    return False\n",
    "s = input(\"Enter string: \")\n",
    "s= s.lower()\n",
    "print(s)\n",
    "print(isPalindrome(s))\n"
   ]
  },
  {
   "cell_type": "code",
   "execution_count": 30,
   "id": "2558f1a7",
   "metadata": {},
   "outputs": [
    {
     "name": "stdout",
     "output_type": "stream",
     "text": [
      "False\n"
     ]
    }
   ],
   "source": [
    "# 3. Anagram Checker\n",
    "#    * Function checks if two words are anagrams.\n",
    "#    * Input: `\"listen\", \"silent\"`\n",
    "#    * Output: `True`\n",
    "def anagram(s1,s2):\n",
    "    if sorted(set(s1)) == sorted(set(s2)):\n",
    "        return True\n",
    "    return False\n",
    "s1 = input(\"String 1: \")\n",
    "s2 = input(\"String 2: \")\n",
    "print(anagram(s1.lower(),s2.lower()))"
   ]
  },
  {
   "cell_type": "code",
   "execution_count": 34,
   "id": "00a94148",
   "metadata": {},
   "outputs": [
    {
     "name": "stdout",
     "output_type": "stream",
     "text": [
      "Tekworks aiml ds session\n",
      "Vowels = 7 , Consonants = 14\n"
     ]
    }
   ],
   "source": [
    "# 4. Count Vowels & Consonants\n",
    "#    * Return count of vowels & consonants.\n",
    "#    * Input: `\"hello\"`\n",
    "#    * Output: `Vowels=2, Consonants=3`\n",
    "def countvar(s):\n",
    "    vow = set(\"aeiouAEIOU\")\n",
    "    v=0\n",
    "    c=0\n",
    "    for i in range(len(s)):\n",
    "        if s[i].isalpha():\n",
    "            if s[i] in vow:\n",
    "                v+=1\n",
    "            else:\n",
    "                c+=1\n",
    "    return v,c\n",
    "\n",
    "s = input(\"Enter string: \")\n",
    "print(s)\n",
    "vowel, consonant = countvar(s)\n",
    "print(\"Vowels =\", vowel, \", Consonants =\", consonant)\n"
   ]
  },
  {
   "cell_type": "code",
   "execution_count": 42,
   "id": "88c8887e",
   "metadata": {},
   "outputs": [
    {
     "name": "stdout",
     "output_type": "stream",
     "text": [
      "['Trying', 'to', 'find', 'the', 'largest', 'word', 'in', 'sentence']\n",
      "sentence\n"
     ]
    }
   ],
   "source": [
    "# 5. Longest Word Finder\n",
    "# * Return longest word in a sentence.\n",
    "# * Input: `\"Python is amazing\"`\n",
    "# * Output: `\"amazing\"`\n",
    "def largeword(s):\n",
    "    maxlen =\"\"\n",
    "    for i in s:\n",
    "        if len(i) > len(maxlen):\n",
    "            maxlen = i\n",
    "    return maxlen\n",
    "s= input(\"Enter string\").split()\n",
    "print(s)\n",
    "print(largeword(s))"
   ]
  }
 ],
 "metadata": {
  "kernelspec": {
   "display_name": "Python 3",
   "language": "python",
   "name": "python3"
  },
  "language_info": {
   "codemirror_mode": {
    "name": "ipython",
    "version": 3
   },
   "file_extension": ".py",
   "mimetype": "text/x-python",
   "name": "python",
   "nbconvert_exporter": "python",
   "pygments_lexer": "ipython3",
   "version": "3.11.0"
  }
 },
 "nbformat": 4,
 "nbformat_minor": 5
}

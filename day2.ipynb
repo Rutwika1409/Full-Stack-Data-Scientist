{
 "cells": [
  {
   "cell_type": "code",
   "execution_count": 5,
   "id": "230c2718",
   "metadata": {},
   "outputs": [
    {
     "name": "stdout",
     "output_type": "stream",
     "text": [
      "Total words: 4\n"
     ]
    }
   ],
   "source": [
    "# 1. Problem: Given a text file, count the total number of words.\n",
    "def count_words(filename):\n",
    "    f = open(filename, 'r')\n",
    "    text = f.read()\n",
    "    f.close()\n",
    "    words = text.split()\n",
    "    return len(words)\n",
    "file = \"data.txt\"  \n",
    "print(\"Total words:\", count_words(file))\n",
    "\n"
   ]
  },
  {
   "cell_type": "code",
   "execution_count": 11,
   "id": "4d3d3d9f",
   "metadata": {},
   "outputs": [
    {
     "name": "stdout",
     "output_type": "stream",
     "text": [
      "Weak password\n"
     ]
    }
   ],
   "source": [
    "# 2. Problem: Write a program to check if a password is strong (at least 8 characters, contains uppercase, lowercase, digit, and special char).\n",
    "import string\n",
    "def is_strong_password(password):\n",
    "    if len(password) < 8:\n",
    "        return False\n",
    "    uppercheck = any(char in string.ascii_uppercase for char in password)\n",
    "    lowercheck = any(char in string.ascii_lowercase for char in password)\n",
    "    digitcheck = any(char in string.digits for char in password)\n",
    "    specialcheck = any(char in string.punctuation for char in password)\n",
    "    if uppercheck and lowercheck and digitcheck and specialcheck:\n",
    "        return True\n",
    "s = input(\"Enter password: \")\n",
    "if is_strong_password(s):\n",
    "    print(\"Strong password\")\n",
    "else:\n",
    "    print(\"Weak password\")"
   ]
  },
  {
   "cell_type": "code",
   "execution_count": 18,
   "id": "6c856202",
   "metadata": {},
   "outputs": [
    {
     "name": "stdout",
     "output_type": "stream",
     "text": [
      "Addition:  30.0\n"
     ]
    }
   ],
   "source": [
    "# 3. Problem: Implement a calculator with +, -, *, / operations.\n",
    "class Calci:   \n",
    "    def calculator(self,a,b,op):\n",
    "        match(op): \n",
    "            case '+':\n",
    "                print(\"Addition: \", end=\" \")\n",
    "                return a + b\n",
    "            case '-':\n",
    "                print(\"Subtraction: \", end=\" \")\n",
    "                return a - b\n",
    "            case '*':\n",
    "                print(\"Multiplication: \", end=\" \")\n",
    "                return a * b\n",
    "            case '/':\n",
    "                print(\"Division: \", end=\" \")\n",
    "                if b != 0:\n",
    "                    return a / b\n",
    "                else:\n",
    "                    return \"Error: Division by zero\"\n",
    "            case _:\n",
    "                return \"Invalid operation\"     \n",
    "obj = Calci()\n",
    "a = float(input(\"Enter first number: \"))\n",
    "b = float(input(\"Enter second number: \"))\n",
    "que = \"yes\"\n",
    "while que.lower() == \"yes\":\n",
    "    op = input(\"Enter operation (+, -, *, /): \")\n",
    "    res = obj.calculator(a,b,op)\n",
    "    print(res)\n",
    "    que = input(\"continue? (yes/no): \")\n",
    "\n",
    "\n"
   ]
  },
  {
   "cell_type": "code",
   "execution_count": 21,
   "id": "8e8f0f59",
   "metadata": {},
   "outputs": [
    {
     "name": "stdout",
     "output_type": "stream",
     "text": [
      "Duplicate names: {'ruttu', 'teja'}\n"
     ]
    }
   ],
   "source": [
    "# 4. Problem: Given a list of student names, find duplicates.\n",
    "stu = list(map(str, input(\"Enter students names\").split()))\n",
    "duplicates = set()\n",
    "seen = set()        \n",
    "for name in stu:\n",
    "    if name in seen:\n",
    "        duplicates.add(name)\n",
    "    else:\n",
    "        seen.add(name)\n",
    "print(\"Duplicate names:\", duplicates)\n",
    "\n"
   ]
  },
  {
   "cell_type": "code",
   "execution_count": 22,
   "id": "2b68a9a7",
   "metadata": {},
   "outputs": [
    {
     "name": "stdout",
     "output_type": "stream",
     "text": [
      "32.0°C is 89.6°F\n"
     ]
    }
   ],
   "source": [
    "# 5. Problem: Convert between Celsius and Fahrenheit.\n",
    "def c_to_f(celsius):\n",
    "    return (celsius * 9/5) + 32\n",
    "def f_to_c(fahrenheit):\n",
    "    return (fahrenheit - 32) * 5/9\n",
    "option = input(\"C to F or F to C:\")\n",
    "if option.lower() == \"c to f\":\n",
    "    celsius = float(input(\"Enter temperature in Celsius: \"))\n",
    "    print(f\"{celsius}°C is {c_to_f(celsius)}°F\")\n",
    "elif option.lower() == \"f to c\":\n",
    "    fahrenheit = float(input(\"Enter temperature in Fahrenheit: \"))\n",
    "    print(f\"{fahrenheit}°F is {f_to_c(fahrenheit)}°C\")"
   ]
  },
  {
   "cell_type": "code",
   "execution_count": 2,
   "id": "e0147a03",
   "metadata": {},
   "outputs": [
    {
     "name": "stdout",
     "output_type": "stream",
     "text": [
      "[7, 4, 8, 2, 99, 11, 67, 109]\n",
      "99\n"
     ]
    }
   ],
   "source": [
    "# 6. Problem: Find the largest number from a list of integers.\n",
    "def second_max(li):\n",
    "    li.sort(reverse = True)\n",
    "    return li[1]\n",
    "li = list(map(int, input().split()))\n",
    "print(li)\n",
    "print(second_max(li))\n"
   ]
  },
  {
   "cell_type": "code",
   "execution_count": 4,
   "id": "e16dfbe6",
   "metadata": {},
   "outputs": [
    {
     "name": "stdout",
     "output_type": "stream",
     "text": [
      "Interest:  50.0\n",
      "Amount  5050.0\n"
     ]
    }
   ],
   "source": [
    "# 7. Problem: Calculate Simple Interest.\n",
    "def simpleint(princi, time, rate):\n",
    "    return (princi*time*rate)/100\n",
    "p = float(input(\"Enter principal amount: \"))\n",
    "t = float(input(\"Enter time: \"))\n",
    "r = float(input(\"Enter rate: \"))\n",
    "res = simpleint(p,t,r)\n",
    "print(\"Interest: \",res)\n",
    "print(\"Amount \", p+res)\n"
   ]
  },
  {
   "cell_type": "code",
   "execution_count": 8,
   "id": "efddaa83",
   "metadata": {},
   "outputs": [
    {
     "name": "stdout",
     "output_type": "stream",
     "text": [
      "['teja ']\n"
     ]
    }
   ],
   "source": [
    "# 8. Problem: Given a dictionary of student names and attendance %, find defaulters (<75%).\n",
    "d ={}\n",
    "li=[]\n",
    "n = int(input(\"Number of student records: \"))\n",
    "for i in range(n):\n",
    "    key = input(\"Enter student name: \")\n",
    "    val = int(input(\"Enter attendance percentage: \"))\n",
    "    d[key] = val\n",
    "    if val < 75:\n",
    "        li.append(key)\n",
    "print(li)"
   ]
  },
  {
   "cell_type": "code",
   "execution_count": 14,
   "id": "4df5ac01",
   "metadata": {},
   "outputs": [
    {
     "name": "stdout",
     "output_type": "stream",
     "text": [
      "6\n"
     ]
    }
   ],
   "source": [
    "# 9. Problem: Input: 1234 → Output: 10\n",
    "def countsum(n):\n",
    "    res=0\n",
    "    while(n>0):\n",
    "        res+= n%10\n",
    "        n= n//10\n",
    "    return res\n",
    "n = int(input(\"Enter n: \"))\n",
    "print(countsum(n))\n"
   ]
  },
  {
   "cell_type": "code",
   "execution_count": 24,
   "id": "846f15ff",
   "metadata": {},
   "outputs": [
    {
     "name": "stdout",
     "output_type": "stream",
     "text": [
      "False\n"
     ]
    }
   ],
   "source": [
    "# 10. Problem: Write a function to check if a number is prime.\n",
    "def is_prime(n):\n",
    "    c=0\n",
    "    for i in range(2,n):\n",
    "        if n%i==0:\n",
    "            return False\n",
    "    return True\n",
    "n = int(input())\n",
    "print(is_prime(n))"
   ]
  },
  {
   "cell_type": "code",
   "execution_count": 25,
   "id": "a6007b74",
   "metadata": {},
   "outputs": [
    {
     "name": "stdout",
     "output_type": "stream",
     "text": [
      "Min of list:  0\n",
      "Max of list:  9\n"
     ]
    }
   ],
   "source": [
    "# 11. Problem: Find smallest and largest numbers from a list.\n",
    "def minmax(li):\n",
    "    return min(li), max(li)\n",
    "li = list(map(int, input().split()))\n",
    "x,y = minmax(li)\n",
    "print(\"Min of list: \",x)\n",
    "print(\"Max of list: \", y)"
   ]
  },
  {
   "cell_type": "code",
   "execution_count": null,
   "id": "b5609425",
   "metadata": {},
   "outputs": [
    {
     "name": "stdout",
     "output_type": "stream",
     "text": [
      "Items:  Price: \n",
      "Sugar  -  200.18\n",
      "Oil  -  649.0\n",
      "Onions  -  45.6\n"
     ]
    }
   ],
   "source": [
    "# 12. Problem: Given items with prices in a dictionary, calculate total bill.\n",
    "def bill(n):\n",
    "    d={}\n",
    "    for i in range(n):\n",
    "        key = input(\"Enter student name: \")\n",
    "        val = float(input(\"Enter attendance percentage: \"))\n",
    "        d[key] = val\n",
    "    print(\"Items: \", \"Price: \")\n",
    "    for k,v in d.items():\n",
    "        print(k,v, sep=\"  -  \")\n",
    "n = int(input(\"Enter number of items: \"))\n",
    "bill(n)"
   ]
  },
  {
   "cell_type": "code",
   "execution_count": 31,
   "id": "1ade1b32",
   "metadata": {},
   "outputs": [
    {
     "name": "stdout",
     "output_type": "stream",
     "text": [
      "Largest of 3 is:  77\n"
     ]
    }
   ],
   "source": [
    "# 13. Problem: Input 3 numbers, print the largest.\n",
    "def largest(a,b,c):\n",
    "    if a>b and a>c:\n",
    "        return a\n",
    "    elif b>a and b>c:\n",
    "        return b \n",
    "    else:\n",
    "        return c\n",
    "a,b,c = map(int,input().split())\n",
    "print(\"Largest of 3 is: \",largest(a,b,c))\n"
   ]
  },
  {
   "cell_type": "code",
   "execution_count": null,
   "id": "ca0b717f",
   "metadata": {},
   "outputs": [
    {
     "name": "stdout",
     "output_type": "stream",
     "text": [
      "Counter({' ': 3, 'u': 2, 't': 2, 'M': 1, 'y': 1, 'n': 1, 'a': 1, 'm': 1, 'e': 1, 'i': 1, 's': 1, 'R': 1})\n"
     ]
    }
   ],
   "source": [
    "# 14. Problem: Count how many times each character appears in a string.\n",
    "from collections import Counter\n",
    "s = input()\n",
    "c= Counter(s)\n",
    "print(c)"
   ]
  },
  {
   "cell_type": "code",
   "execution_count": null,
   "id": "af66190d",
   "metadata": {},
   "outputs": [
    {
     "name": "stdout",
     "output_type": "stream",
     "text": [
      "Electricity bill :  42 Units consumed:  500\n"
     ]
    }
   ],
   "source": [
    "# 15. Problem: Calculate electricity bill:\n",
    "# First 100 units → ₹5/unit\n",
    "# Next 100 units → ₹7/unit\n",
    "# Above 200 units → ₹10/unit\n",
    "def electricity_bill(units):\n",
    "    x = units\n",
    "    price =0\n",
    "    while(units>0):\n",
    "        if x==units:\n",
    "            price+=5\n",
    "            units-=100\n",
    "        elif x == units+100:\n",
    "            price+=7\n",
    "            units-=100\n",
    "        else:\n",
    "            price+=10\n",
    "            units-=100\n",
    "    return price\n",
    "units = int(input(\"Enter units consumed: \"))\n",
    "print(\"Electricity bill : \",electricity_bill(units), \" Units consumed: \", units)\n",
    "        \n",
    "        \n",
    "\n",
    "\n"
   ]
  },
  {
   "cell_type": "code",
   "execution_count": 42,
   "id": "9d6c6207",
   "metadata": {},
   "outputs": [
    {
     "name": "stdout",
     "output_type": "stream",
     "text": [
      "['rutwika', 'kavya', 'teja', 'xuva']\n",
      "['kavya', 'rutwika', 'teja', 'xuva']\n"
     ]
    }
   ],
   "source": [
    "# 16. Problem: Sort a list of names in ascending order.\n",
    "li = list(map(str, input(\"Enter names: \").split()))\n",
    "print(li)\n",
    "li.sort()\n",
    "print(li)"
   ]
  },
  {
   "cell_type": "code",
   "execution_count": 80,
   "id": "2d41dbcb",
   "metadata": {},
   "outputs": [
    {
     "name": "stdout",
     "output_type": "stream",
     "text": [
      "5632\n",
      "2365\n"
     ]
    }
   ],
   "source": [
    "# 17. Problem: Input: 1234 → Output: 4321\n",
    "n = input()\n",
    "print(n)\n",
    "print(n[::-1])"
   ]
  },
  {
   "cell_type": "code",
   "execution_count": 82,
   "id": "a1bd6451",
   "metadata": {},
   "outputs": [
    {
     "name": "stdout",
     "output_type": "stream",
     "text": [
      "[3, 4, 5, -3, -4, -5, 0, 0, 0]\n",
      "3 3 3\n"
     ]
    }
   ],
   "source": [
    "# 18. Problem: Given a list, count positive, negative, and zero numbers.\n",
    "li = list(map(int, input().split()))\n",
    "n,p,o=0,0,0\n",
    "for i in li:\n",
    "    if i<0:\n",
    "        n+=1\n",
    "    elif i>0:\n",
    "        p+=1\n",
    "    else:\n",
    "        o+=1\n",
    "print(li)\n",
    "print(n,p,o)"
   ]
  },
  {
   "cell_type": "code",
   "execution_count": null,
   "id": "7f4ef615",
   "metadata": {},
   "outputs": [],
   "source": [
    "# # 19. Problem: User has 3 attempts to enter correct PIN.\n",
    "# 20. Problem: Write a program that asks for two numbers and divides them. Handle division by zero.\n",
    "# 21. Problem: Write a program that handles both ValueError (invalid input) and ZeroDivisionError.\n",
    "# 22. Problem: If withdrawal amount is greater than balance, raise an exception.\n",
    "# 23. Problem: Calculate total price, handle invalid input, and always show \"Bill processing finished\"."
   ]
  }
 ],
 "metadata": {
  "kernelspec": {
   "display_name": "Python 3",
   "language": "python",
   "name": "python3"
  },
  "language_info": {
   "codemirror_mode": {
    "name": "ipython",
    "version": 3
   },
   "file_extension": ".py",
   "mimetype": "text/x-python",
   "name": "python",
   "nbconvert_exporter": "python",
   "pygments_lexer": "ipython3",
   "version": "3.11.0"
  }
 },
 "nbformat": 4,
 "nbformat_minor": 5
}

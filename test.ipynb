{
 "cells": [
  {
   "cell_type": "code",
   "execution_count": null,
   "metadata": {},
   "outputs": [
    {
     "name": "stdout",
     "output_type": "stream",
     "text": [
      "Calculator: Enter 2 numbers a,b\n",
      "Enter the operation to be performed: \n",
      "7\n"
     ]
    }
   ],
   "source": [
    "# 1.You are developing a small calculator app. Write a program that takes two numbers from the user and swaps them without using a third variable, so users can correct their input order.\n",
    " print(\"Calculator: Enter 2 numbers a,b\")\n",
    "a,b = map(int, input().split())\n",
    "print(\"Enter the operation to be performed: \")\n",
    "op = input()\n",
    "if op=='+':\n",
    "    print(a+b)\n",
    "if op=='-':\n",
    "    print(a-b)\n",
    "if op=='*':\n",
    "    print(a*b)\n",
    "if op=='%':\n",
    "    print(a%b)\n",
    "    \n",
    "#     switch op{\n",
    "#     case '+' : a=a+b\n",
    "#     print(a)\n",
    "\n",
    "# }\n",
    "\n",
    "\n"
   ]
  },
  {
   "cell_type": "code",
   "execution_count": null,
   "metadata": {},
   "outputs": [
    {
     "name": "stdout",
     "output_type": "stream",
     "text": [
      "abcdsej\\\n",
      "\\jesdcba"
     ]
    }
   ],
   "source": [
    "# 2.A library wants to build a feature to display book titles backwards for a “mirror view” theme. Write a program that reverses a given string without using slicing.\n",
    "s = input()\n",
    "print(s)\n",
    "for i in range(len(s)-1,-1,-1):\n",
    "    print(s[i], end=\"\")\n"
   ]
  },
  {
   "cell_type": "code",
   "execution_count": null,
   "metadata": {},
   "outputs": [
    {
     "name": "stdout",
     "output_type": "stream",
     "text": [
      "Yes\n"
     ]
    }
   ],
   "source": [
    "# 3. An ATM machine verifies special numbers before processing transactions. Write a program to check if a number entered by the customer is an Armstrong number.\n",
    "num = input()\n",
    "temp =[]\n",
    "for i in range(len(num)):\n",
    "    p = len(num)\n",
    "    x = int(num[i])%9\n",
    "    temp.append(x**p)\n",
    "if sum(temp) == int(num):\n",
    "    print(\"Yes\")\n",
    "else:\n",
    "    print(\"No\")"
   ]
  },
  {
   "cell_type": "code",
   "execution_count": null,
   "metadata": {},
   "outputs": [
    {
     "name": "stdout",
     "output_type": "stream",
     "text": [
      "3 6\n"
     ]
    }
   ],
   "source": [
    "# 4. A language learning app wants to check how many vowels and consonants a user has typed in a practice sentence. Write a program to count vowels and consonants in a given sentence.\n",
    "s = input()\n",
    "vowels = ['a', 'e', 'i', 'o', 'u', 'A', 'E', 'I', 'O', 'U']\n",
    "vow = 0\n",
    "con =0\n",
    "for i in s:\n",
    "    if i in vowels:\n",
    "        vow+=1\n",
    "    else:\n",
    "        con+=1\n",
    "print(vow, con)"
   ]
  },
  {
   "cell_type": "code",
   "execution_count": null,
   "metadata": {},
   "outputs": [
    {
     "name": "stdout",
     "output_type": "stream",
     "text": [
      "5\n",
      "10\n",
      "15\n",
      "20\n",
      "25\n",
      "30\n",
      "35\n",
      "40\n",
      "45\n",
      "50\n"
     ]
    }
   ],
   "source": [
    "# # 5.In an e-learning platform, when a student inputs a number, the system should generate its multiplication table (up to 10) as practice material. Write a program to do this.\n",
    "base = int(input())\n",
    "for i in range(1,11):\n",
    "    print(i*base)\n"
   ]
  },
  {
   "cell_type": "code",
   "execution_count": null,
   "metadata": {},
   "outputs": [
    {
     "name": "stdout",
     "output_type": "stream",
     "text": [
      "No discount available\n"
     ]
    }
   ],
   "source": [
    "# 6.A travel company checks leap years to calculate special discounts on leap day. Write a program to check if a given year is a leap year.\n",
    "year =  int(input())\n",
    "if (year%4==0) or (year%100!=0 and year%400==0) :\n",
    "    print(\"Discount available: leap year\")\n",
    "else:\n",
    "    print(\"No discount available\")"
   ]
  },
  {
   "cell_type": "code",
   "execution_count": null,
   "metadata": {},
   "outputs": [],
   "source": [
    "# 7.A gaming app wants to determine the highest score out of 5 attempts. Write a program to take 5 numbers as input and print the largest.\n",
    "\n",
    "li= list(map(int, input().split()))\n",
    "print(li)\n",
    "print(max(li))"
   ]
  },
  {
   "cell_type": "code",
   "execution_count": null,
   "metadata": {},
   "outputs": [
    {
     "name": "stdout",
     "output_type": "stream",
     "text": [
      "acda adca\n",
      "No, not palindrome\n"
     ]
    }
   ],
   "source": [
    "# 8.\n",
    "# A healthcare app stores patient IDs and checks if they are palindromes for easy recall. Write a program that checks if a given string ID is a palindrome.\n",
    "s = input()\n",
    "t = s[::-1]\n",
    "print(s,t, sep=\" \")\n",
    "if s==t:\n",
    "    print(\"Yes, palindrome\")\n",
    "else:\n",
    "    print(\"No, not palindrome\")"
   ]
  },
  {
   "cell_type": "code",
   "execution_count": null,
   "metadata": {},
   "outputs": [
    {
     "name": "stdout",
     "output_type": "stream",
     "text": [
      "5040\n"
     ]
    }
   ],
   "source": [
    "\n",
    "# 9.\n",
    "# A factory wants to calculate the number of ways workers can be arranged in a line. Write a program to find the factorial of a number.\\\n",
    "f = int(input())\n",
    "res = 1\n",
    "for i in range(1, f+1):\n",
    "    res*=i\n",
    "print(res)\n"
   ]
  },
  {
   "cell_type": "code",
   "execution_count": null,
   "metadata": {},
   "outputs": [
    {
     "name": "stdout",
     "output_type": "stream",
     "text": [
      "[15, 30, 45, 60, 75, 90] "
     ]
    }
   ],
   "source": [
    "# 10.\n",
    "# A company gives rewards for numbers divisible by both 3 and 5. Write a program to print all numbers between 1 and 100 that qualify.\n",
    "res=[]\n",
    "for i in range(1, 101):\n",
    "    if i%3==0 and i%5==0:\n",
    "        res.append(i)\n",
    "print(res, end=\" \")"
   ]
  },
  {
   "cell_type": "code",
   "execution_count": null,
   "metadata": {},
   "outputs": [],
   "source": []
  }
 ],
 "metadata": {
  "kernelspec": {
   "display_name": "venv",
   "language": "python",
   "name": "python3"
  },
  "language_info": {
   "codemirror_mode": {
    "name": "ipython",
    "version": 3
   },
   "file_extension": ".py",
   "mimetype": "text/x-python",
   "name": "python",
   "nbconvert_exporter": "python",
   "pygments_lexer": "ipython3",
   "version": "3.11.0"
  }
 },
 "nbformat": 4,
 "nbformat_minor": 2
}

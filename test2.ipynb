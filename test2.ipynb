{
 "cells": [
  {
   "cell_type": "code",
   "execution_count": 6,
   "metadata": {},
   "outputs": [
    {
     "name": "stdout",
     "output_type": "stream",
     "text": [
      "310\n"
     ]
    }
   ],
   "source": [
    "# 1 Scenario: A grocery shopkeeper wants to calculate the bill of 3 items. Prices and quantities should be stored in variables, and the program should display the total cost.\n",
    "# Sample Input:\n",
    "# Item1 Price: 50, Quantity: 2\n",
    "# Item2 Price: 30, Quantity: 5\n",
    "# Item3 Price: 20, Quantity: 3\n",
    "# Expected Output:\n",
    "# Total Bill = (50*2) + (30*5) + (20*3) = 100 + 150 + 60 = 310\n",
    "# items = {'50':2, '30':5, '20':3}\n",
    "# res=0\n",
    "# q = items.values()\n",
    "# p = items.keys()\n",
    "# for i in items:\n",
    "#     res+=q[i]*p[i]\n",
    "# print((res))\n",
    "p1, q1 = map(int, input().split())\n",
    "p2, q2 = map(int, input().split())\n",
    "p3, q3 = map(int, input().split())\n",
    "price = [p1,p2,p3]\n",
    "quantity = [q1, q2,q3]\n",
    "res=0\n",
    "for i in range(len(price)):\n",
    "    res+= price[i]*quantity[i]\n",
    "print(res)\n",
    "\n"
   ]
  },
  {
   "cell_type": "code",
   "execution_count": null,
   "metadata": {},
   "outputs": [],
   "source": [
    "# 1 Scenario: A grocery shopkeeper wants to calculate the bill of 3 items. Prices and quantities should be stored in variables, and the program should display the total cost.\n",
    "# Sample Input:\n",
    "# Item1 Price: 50, Quantity: 2\n",
    "# Item2 Price: 30, Quantity: 5\n",
    "# Item3 Price: 20, Quantity: 3\n",
    "# Expected Output:\n",
    "# Total Bill = (50*2) + (30*5) + (20*3) = 100 + 150 + 60 = 310\n",
    "n = int(input(\"Enter number of entries:\"))\n",
    "\n",
    "for i in range(n):\n",
    "    p,q = map(int, input().split())\n",
    "    price.append(p)\n",
    "    quantity.append(q)"
   ]
  },
  {
   "cell_type": "code",
   "execution_count": 8,
   "metadata": {},
   "outputs": [
    {
     "name": "stdout",
     "output_type": "stream",
     "text": [
      "Addition = 19\n",
      "Subtraction = 11\n",
      "Multiplication = 60\n",
      "Division = 3.75\n",
      "Modulus = 3\n"
     ]
    }
   ],
   "source": [
    "# 2 Build a calculator that takes two numbers and performs addition, subtraction, multiplication, division, and modulus.\n",
    "# Sample Input:\n",
    "# Enter first number: 15\n",
    "# Enter second number: 4\n",
    "# Expected Output:\n",
    "# Addition = 19\n",
    "# Subtraction = 11\n",
    "# Multiplication = 60\n",
    "# Division = 3.75\n",
    "# Modulus = 3\n",
    "a = int(input(\"Enter first number:\"))\n",
    "b = int(input(\"Enter second number:\"))\n",
    "print(\"Addition =\", a+b)\n",
    "print(\"Subtraction =\", a-b)\n",
    "print(\"Multiplication =\", a*b)\n",
    "print(\"Division =\", a/b)\n",
    "print(\"Modulus =\", a%b)\n"
   ]
  },
  {
   "cell_type": "code",
   "execution_count": null,
   "metadata": {},
   "outputs": [
    {
     "name": "stdout",
     "output_type": "stream",
     "text": [
      "Grade: A (Excellent)\n"
     ]
    }
   ],
   "source": [
    "# 3 A teacher wants a grading system where marks are input, and the grade is displayed.\n",
    "# Sample Input:\n",
    "# Enter marks: 82\n",
    "# Expected Output:\n",
    "# Grade: A (Excellent)\n",
    "# (Rules: >=90 → A+, 80–89 → A, 70–79 → B, 60–69 → C, <60 → Fail)\n",
    "\n",
    "m = int(input(\"Enter marks: \"))\n",
    "if m>= 90:\n",
    "    print(\"Grade: A+ (Extraordinary)\")\n",
    "elif m>=80 and m<90:\n",
    "    print(\"Grade: A (Excellent)\")\n",
    "elif m>=70 and m<80:\n",
    "    print(\"Grade: B (Good)\")\n",
    "elif m>=60 and m<70:\n",
    "    print(\"Grade: C (Average)\")\n",
    "else:\n",
    "    print(\"Fail\")"
   ]
  },
  {
   "cell_type": "code",
   "execution_count": null,
   "metadata": {},
   "outputs": [
    {
     "name": "stdout",
     "output_type": "stream",
     "text": [
      "Highest Marks = 90\n",
      "Lowest Marks = 45\n",
      "Average Marks= 71.4\n"
     ]
    }
   ],
   "source": [
    "# 4 Student Marks List\n",
    "# Scenario: Store marks of 5 students in a list. Display the highest, lowest, and average marks.\n",
    "# Sample Input:\n",
    "# Marks: [45, 78, 88, 56, 90]\n",
    "# Expected Output:\n",
    "# Highest Marks = 90\n",
    "# Lowest Marks = 45\n",
    "# Average Marks = 71.4\n",
    "marks = list(map(int, input().split()))\n",
    "print(\"Highest Marks =\", max(marks))\n",
    "print(\"Lowest Marks =\", min(marks))\n",
    "print(\"Average Marks=\", sum(marks)/ len(marks))"
   ]
  },
  {
   "cell_type": "code",
   "execution_count": 12,
   "metadata": {},
   "outputs": [
    {
     "name": "stdout",
     "output_type": "stream",
     "text": [
      "Phone number of Ravi: 9123456780\n"
     ]
    }
   ],
   "source": [
    "# 5 Create a phonebook using a dictionary where names are keys and numbers are values. Allow searching for a number by name.\n",
    "# Sample Input:\n",
    "# Phonebook = {\"Suhel\": 9876543210, \"Ravi\": 9123456780, \"Anita\": 9988776655}\n",
    "# Search Name: Ravi\n",
    "# Expected Output:\n",
    "# Phone Number of Ravi: 9123456780\n",
    "Phonebook = {\"Suhel\": 9876543210, \"Ravi\": 9123456780, \"Anita\": 9988776655}\n",
    "search = input()\n",
    "search = search.title()\n",
    "if search in Phonebook:\n",
    "    print(\"Phone number of Ravi:\", Phonebook[search])\n",
    "else:\n",
    "    print(\"Searched name not in Phonebook\")"
   ]
  },
  {
   "cell_type": "code",
   "execution_count": null,
   "metadata": {},
   "outputs": [
    {
     "name": "stdout",
     "output_type": "stream",
     "text": [
      "512\n"
     ]
    }
   ],
   "source": [
    "\n",
    " \n",
    " \n",
    "\n",
    " \n",
    " \n",
    "8 Implement a Caesar Cipher encryption. User inputs a message and a shift key. Program outputs the encrypted text using operators.\n",
    " \n",
    " \n",
    "Sample Input:\n",
    " \n",
    " \n",
    "Message = \"HELLO\"\n",
    "\n",
    "Shift = 3\n",
    " \n",
    " \n",
    " \n",
    "Expected Output:\n",
    " \n",
    " \n",
    "Encrypted Message: KHOOR\n",
    " \n",
    " \n",
    "9 Build an ATM where users can withdraw money if they have sufficient balance, otherwise display “Insufficient Balance”. Handle PIN verification too.\n",
    " \n",
    " \n",
    "Sample Input:\n",
    " \n",
    " \n",
    "PIN = 1234\n",
    "\n",
    "Balance = 5000\n",
    "\n",
    "Withdraw = 2000\n",
    " \n",
    " \n",
    " \n",
    "Expected Output:\n",
    " \n",
    " \n",
    "PIN Verified.\n",
    "\n",
    "Withdrawal Successful. Remaining Balance = 3000\n",
    " \n",
    " \n",
    "10 Store a list of books in a library. Program should allow adding, removing, and displaying all books. Also, show total number of books.\n",
    " \n",
    " \n",
    "Sample Input:\n",
    " \n",
    " \n",
    "Books = [\"Python Basics\", \"Data Science\", \"AI Fundamentals\"]\n",
    "\n",
    "Add Book: \"Machine Learning\"\n",
    "\n",
    "Remove Book: \"Data Science\"\n",
    " \n",
    " \n",
    " \n",
    "Expected Output:\n",
    " \n",
    " \n",
    "Current Books: ['Python Basics', 'AI Fundamentals', 'Machine Learning']\n",
    "\n",
    "Total Books: 3\n",
    " "
   ]
  },
  {
   "cell_type": "code",
   "execution_count": 26,
   "metadata": {},
   "outputs": [
    {
     "name": "stdout",
     "output_type": "stream",
     "text": [
      "4\n",
      "25\n",
      "9\n"
     ]
    }
   ],
   "source": [
    "# 6 Write a program to count the number of words, characters, and vowels in a sentence.\n",
    "# Sample Input:\n",
    "# Enter sentence: \"Python is awesome\"\n",
    "# Expected Output:\n",
    "# Total Words = 3\n",
    "# Total Characters = 16\n",
    "# Total Vowels = 6\n",
    "li = list(map(str, input().split()))\n",
    "vow = set(\"aeiouAEIOU\")\n",
    "print(len(li))\n",
    "ch=0\n",
    "v=0\n",
    "for i in range(len(li)):\n",
    "    if li[i].isalpha():\n",
    "        ch += len(li[i])\n",
    "for i in range(len(li)):\n",
    "    for c in li[i]:\n",
    "        if c in vow:\n",
    "            v+=1\n",
    "print(ch)\n",
    "print(v)\n"
   ]
  },
  {
   "cell_type": "code",
   "execution_count": null,
   "metadata": {},
   "outputs": [
    {
     "name": "stdout",
     "output_type": "stream",
     "text": [
      "Principal = 5000.0\n",
      "Rate = 5.0\n",
      "Time = 2.0\n",
      "Interest Type = Compound\n",
      "Interest amount = 5512.5\n",
      "Total Amount = 10512.5\n"
     ]
    }
   ],
   "source": [
    "# 7 A bank provides simple interest and compound interest. A user inputs principal, rate, time, and type of interest. Program should calculate accordingly.\n",
    "# Sample Input:\n",
    "# Principal = 5000\n",
    "# Rate = 5\n",
    "# Time = 2\n",
    "# Interest Type = Compound\n",
    "# Expected Output:\n",
    "# Compound Interest = 512.50\n",
    "# Total Amount = 5512.50\n",
    "p, r, t = map(float, input().split())\n",
    "print(\"Principal =\", p)\n",
    "print(\"Rate =\", r)\n",
    "print(\"Time =\", t)\n",
    "interest = input()\n",
    "res = 0.0\n",
    "if interest.lower() == \"simple\":\n",
    "    res = (p * r * t) / 100\n",
    "elif interest.lower() == \"compound\":\n",
    "    res = p * ((1 + r/1000) ** t)\n",
    "print(\"Interest Type =\", interest.title())\n",
    "print(\"Interest amount =\", res)\n",
    "print(\"Total Amount =\", p+res)\n"
   ]
  },
  {
   "cell_type": "code",
   "execution_count": null,
   "metadata": {},
   "outputs": [
    {
     "name": "stdout",
     "output_type": "stream",
     "text": [
      "2\n"
     ]
    }
   ],
   "source": []
  },
  {
   "cell_type": "code",
   "execution_count": null,
   "metadata": {},
   "outputs": [],
   "source": []
  }
 ],
 "metadata": {
  "kernelspec": {
   "display_name": "Python 3",
   "language": "python",
   "name": "python3"
  },
  "language_info": {
   "codemirror_mode": {
    "name": "ipython",
    "version": 3
   },
   "file_extension": ".py",
   "mimetype": "text/x-python",
   "name": "python",
   "nbconvert_exporter": "python",
   "pygments_lexer": "ipython3",
   "version": "3.11.0"
  }
 },
 "nbformat": 4,
 "nbformat_minor": 2
}

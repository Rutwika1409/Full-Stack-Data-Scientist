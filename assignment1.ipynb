{
 "cells": [
  {
   "cell_type": "code",
   "execution_count": 24,
   "id": "09dc1a4d",
   "metadata": {},
   "outputs": [
    {
     "name": "stdout",
     "output_type": "stream",
     "text": [
      "23\n",
      "Prime number\n"
     ]
    }
   ],
   "source": [
    "# 11.\n",
    "# A security system checks whether the entered code is prime for extra authentication. Write a program to check if a given number is prime.\n",
    "n = int(input(\"Enter a number:\"))\n",
    "print(n)\n",
    "c=0\n",
    "for i in range(1,n):\n",
    "    if n%i==0:\n",
    "        c+=1\n",
    "if c>1:\n",
    "    print(\"Non prime number\")\n",
    "else:\n",
    "    print(\"Prime number\")\n"
   ]
  },
  {
   "cell_type": "code",
   "execution_count": 6,
   "id": "1bbf2a7c",
   "metadata": {},
   "outputs": [
    {
     "name": "stdout",
     "output_type": "stream",
     "text": [
      "[5, 6, 7, 8, 9]\n",
      "8\n"
     ]
    }
   ],
   "source": [
    "# 12.In a class test, a teacher wants to know the second highest score among students. Write a program to find the second largest number in a list.\n",
    "arr = list(map(int, input(\"Enter student marks\").split()))\n",
    "print(arr)\n",
    "max1 = max2 = float('-inf')\n",
    "for i in arr:\n",
    "    if i > max1:\n",
    "        max2 = max1  \n",
    "        max1 = i     \n",
    "    elif i > max2 and i != max1:\n",
    "        max2 = i  \n",
    "print(max2)"
   ]
  },
  {
   "cell_type": "code",
   "execution_count": 8,
   "id": "3f44a81f",
   "metadata": {},
   "outputs": [
    {
     "name": "stdout",
     "output_type": "stream",
     "text": [
      "Sum of even numbers from 1-50:\n",
      "650\n"
     ]
    }
   ],
   "source": [
    "# 13.\n",
    "# A fitness app counts only even-numbered steps to calculate “balanced walking.” Write a program to find the sum of even numbers from 1 to 50.\n",
    "print(\"Sum of even numbers from 1-50:\")\n",
    "res=0\n",
    "for i in range(1,51):\n",
    "    if i%2==0:\n",
    "        res+=i\n",
    "print(res)"
   ]
  },
  {
   "cell_type": "code",
   "execution_count": 12,
   "id": "bd809dae",
   "metadata": {},
   "outputs": [
    {
     "name": "stdout",
     "output_type": "stream",
     "text": [
      "CHecking Upper and Lower\n",
      "Upper count: 4\n",
      "Lower count 17\n"
     ]
    }
   ],
   "source": [
    "# 14.A typing speed test wants to know how many uppercase and lowercase letters a user typed. Write a program to count uppercase and lowercase characters in a string.\n",
    "s = input().strip()\n",
    "print(s)\n",
    "u=0\n",
    "l=0\n",
    "for i in s:\n",
    "    if i.isupper():\n",
    "        u+=1\n",
    "    if i.islower():\n",
    "        l+=1\n",
    "print(\"Upper count:\",u)\n",
    "print(\"Lower count\",l)"
   ]
  },
  {
   "cell_type": "code",
   "execution_count": 25,
   "id": "546967b9",
   "metadata": {},
   "outputs": [
    {
     "name": "stdout",
     "output_type": "stream",
     "text": [
      "0 1 1 2 3 5 8 13 "
     ]
    }
   ],
   "source": [
    "# 15.\n",
    "# A financial tool simulates Fibonacci-like growth in savings. Write a program to generate the Fibonacci sequence up to n terms.\n",
    "def fib(n):\n",
    "    if n == 0:\n",
    "        return 0\n",
    "    elif n == 1:\n",
    "        return 1\n",
    "    else:\n",
    "        return fib(n-1) + fib(n-2)\n",
    "n = int(input(\"Enter series size: \"))\n",
    "for i in range(n):\n",
    "    print(fib(i), end=\" \")\n",
    "\n"
   ]
  },
  {
   "cell_type": "code",
   "execution_count": 21,
   "id": "8f10cf54",
   "metadata": {},
   "outputs": [
    {
     "name": "stdout",
     "output_type": "stream",
     "text": [
      "deva hevd\n",
      "s1, s2 not anagrams\n"
     ]
    }
   ],
   "source": [
    "# 16.\n",
    "# A word puzzle game checks if two words are anagrams (same letters but shuffled). Write a program to check if two strings are anagrams.\n",
    "s1,s2 = map(str, input().split())\n",
    "print(s1, s2)\n",
    "if set(s1) == set(s2):\n",
    "    print(\"Yes s1, s2 are anagrams\")\n",
    "else:\n",
    "    print(\"s1, s2 not anagrams\")"
   ]
  },
  {
   "cell_type": "code",
   "execution_count": 26,
   "id": "6dc165f1",
   "metadata": {},
   "outputs": [
    {
     "name": "stdout",
     "output_type": "stream",
     "text": [
      "6\n",
      "Perfect number\n"
     ]
    }
   ],
   "source": [
    "# 17.\n",
    "# A science experiment needs to verify whether a number is perfect (sum of divisors = number). Write a program to check if a number is a perfect number.\n",
    "n = int(input(\"Enter a number: \"))\n",
    "print(n)\n",
    "s = 0\n",
    "for i in range(1, n):\n",
    "    if n % i == 0:\n",
    "        s += i\n",
    "if s == n:\n",
    "    print(\"Perfect number\")\n",
    "else:\n",
    "    print(\"Not perfect number\")\n"
   ]
  },
  {
   "cell_type": "code",
   "execution_count": 31,
   "id": "fc38e225",
   "metadata": {},
   "outputs": [
    {
     "name": "stdout",
     "output_type": "stream",
     "text": [
      "[54, 78, 37, 88, 61]\n",
      "C\n"
     ]
    }
   ],
   "source": [
    "# 18.\n",
    "# A school report system calculates percentage and assigns grades:\n",
    "# ≥90 → A\n",
    "# ≥75 → B\n",
    "# ≥50 → C\n",
    "# <50 → Fail\n",
    "# Write a program that takes 5 subject marks, calculates percentage, and prints the grade.\n",
    "marks = [int(input()) for _ in range(5)]\n",
    "print(marks)\n",
    "total = sum(marks)\n",
    "percentage = total / 5\n",
    "if percentage >= 90:\n",
    "    print(\"A\")\n",
    "elif percentage >= 75:\n",
    "    print(\"B\")\n",
    "elif percentage >= 50:\n",
    "    print(\"C\")\n",
    "else:\n",
    "    print(\"Fail\")\n",
    "\n"
   ]
  },
  {
   "cell_type": "code",
   "execution_count": null,
   "id": "c2b69f38",
   "metadata": {},
   "outputs": [
    {
     "name": "stdout",
     "output_type": "stream",
     "text": [
      "2 3 5 7 11 13 17 19 23 29 31 37 41 43 47 53 59 61 67 71 73 79 83 89 97 "
     ]
    }
   ],
   "source": [
    "# 19.\n",
    "# A mathematics quiz app generates all prime numbers between 1 and 100. Write a program to print all prime numbers in this range.\n",
    "import math\n",
    "for n in range(2, 101):\n",
    "    for i in range(2, int(math.sqrt(n)) + 1):\n",
    "        if n % i == 0:\n",
    "            break\n",
    "    else:\n",
    "        print(n, end=\" \")"
   ]
  },
  {
   "cell_type": "code",
   "execution_count": 39,
   "id": "f30a480d",
   "metadata": {},
   "outputs": [
    {
     "name": "stdout",
     "output_type": "stream",
     "text": [
      "count of words\n",
      "3\n"
     ]
    }
   ],
   "source": [
    "# 20.\n",
    "# An online editor counts words in an article but doesn’t allow using split(). Write a program to count the number of words in a sentence.\n",
    "s = input()\n",
    "print(s)\n",
    "count = 0\n",
    "word = False\n",
    "for ch in s:\n",
    "    if not ch.isspace() and not word:\n",
    "        count += 1\n",
    "        word = True\n",
    "    elif ch.isspace():\n",
    "        word = False\n",
    "print(count)\n",
    "\n"
   ]
  },
  {
   "cell_type": "code",
   "execution_count": 41,
   "id": "2e136ce0",
   "metadata": {},
   "outputs": [
    {
     "name": "stdout",
     "output_type": "stream",
     "text": [
      "To check discount percentage:\n",
      "discount available: 10%\n",
      "Final price:  90.0\n"
     ]
    }
   ],
   "source": [
    "# 21. Movie Ticket Discount\n",
    "# A cinema gives a 20% discount if the customer is a student and 10% discount if the customer is a senior citizen (age ≥ 60).\n",
    "# Write a program that takes ticket price, age, and student status (yes/no) as input and prints the final ticket price.\n",
    "price = float(input(\"Enter ticket price: \"))\n",
    "print(\"To check discount percentage:\")\n",
    "age = int(input(\"Enter age:\"))\n",
    "stu = input(\"Yes/No:\")\n",
    "if stu.lower() =='yes':\n",
    "    print(\"discount available: 20%\")\n",
    "    price *= 0.8\n",
    "elif age>=60:\n",
    "    print(\"discount available: 10%\")\n",
    "    price *= 0.9\n",
    "else:\n",
    "    print(\"No disocunt\")\n",
    "print(\"Final price: \", price)"
   ]
  },
  {
   "cell_type": "code",
   "execution_count": 43,
   "id": "a018602a",
   "metadata": {},
   "outputs": [
    {
     "name": "stdout",
     "output_type": "stream",
     "text": [
      "Delivery charges applied\n",
      "Final amount: 119.0\n"
     ]
    }
   ],
   "source": [
    "# 22. Shopping Cart Free Delivery\n",
    "# An e-commerce website gives free delivery if the total cart value is more than ₹500. Otherwise, a delivery charge of ₹50 is applied.\n",
    "# Write a program that takes the cart total as input and prints the final amount payable.\n",
    "cart = float(input(\"Enter cart total: \"))\n",
    "if cart > 500:\n",
    "    print(\"No delivery charges\")\n",
    "    print(\"Final amount:\", cart)\n",
    "else:\n",
    "    print(\"Delivery charges applied\")\n",
    "    print(\"Final amount:\", cart + 50)\n"
   ]
  },
  {
   "cell_type": "code",
   "execution_count": 47,
   "id": "590e5c46",
   "metadata": {},
   "outputs": [
    {
     "name": "stdout",
     "output_type": "stream",
     "text": [
      "49\n",
      "Fail\n"
     ]
    }
   ],
   "source": [
    "# 23. Marks Grading System\n",
    "# A college follows this grading system:\n",
    "# 90–100: A\n",
    "# 75–89: B\n",
    "# 50–74: C\n",
    "# Below 50: Fail\n",
    "# Write a program that takes marks as input and prints the grade.\n",
    "marks = int(input(\"Enter marks: \"))\n",
    "print(marks)\n",
    "if 90 <= marks <= 100:\n",
    "    print(\"A\")\n",
    "elif 75 <= marks <= 89:\n",
    "    print(\"B\")\n",
    "elif 50 <= marks <= 74:\n",
    "    print(\"C\")\n",
    "else:\n",
    "    print(\"Fail\")\n"
   ]
  },
  {
   "cell_type": "code",
   "execution_count": 49,
   "id": "0571a825",
   "metadata": {},
   "outputs": [
    {
     "name": "stdout",
     "output_type": "stream",
     "text": [
      "800.0\n",
      "Tip to be added: 80.0\n"
     ]
    }
   ],
   "source": [
    "# 24. Restaurant Tip Calculator\n",
    "# A restaurant suggests tips based on the bill:\n",
    "# Less than 500 → 5% tip\n",
    "# 500–1000 → 10% tip\n",
    "# More than 1000 → 15% tip\n",
    "# Write a program that takes the bill amount and prints the tip to be added.\n",
    "b = float(input(\"Enter bill amount:\"))\n",
    "print(b)\n",
    "if b < 500:\n",
    "    t = b * 5/100\n",
    "elif b <= 1000:\n",
    "    t = b * 10/100\n",
    "else:\n",
    "    t = b * 15/100\n",
    "print(\"Tip to be added:\", t)\n"
   ]
  },
  {
   "cell_type": "code",
   "execution_count": 55,
   "id": "ddccedb8",
   "metadata": {},
   "outputs": [
    {
     "name": "stdout",
     "output_type": "stream",
     "text": [
      "Cheapest option: ₹4700 (1 × 6-Month + 4 × Monthly)\n"
     ]
    }
   ],
   "source": [
    "# 25. Gym Membership Plan\n",
    "# A gym charges:\n",
    "# ₹500 per month\n",
    "# ₹2700 for 6 months (discounted)\n",
    "# ₹5000 for 12 months (discounted)\n",
    "# Write a program where the user enters the membership period (months) and the program prints the cheapest option.\n",
    "m = int(input())\n",
    "monthly = m * 500\n",
    "six = (m // 6) * 2700 + (m % 6) * 500\n",
    "twelve = (m // 12) * 5000 + (m % 12) * 500\n",
    "cost = min(monthly, six, twelve)\n",
    "if cost == monthly:\n",
    "    plan = str(m) + \" × Monthly\"\n",
    "elif cost == six:\n",
    "    plan = str(m//6) + \" × 6-Month\"\n",
    "    if m % 6:\n",
    "        plan += \" + \" + str(m%6) + \" × Monthly\"\n",
    "else:\n",
    "    plan = str(m//12) + \" × 12-Month\"\n",
    "    if m % 12:\n",
    "        plan += \" + \" + str(m%12) + \" × Monthly\"\n",
    "\n",
    "print(\"Cheapest option: ₹\" + str(cost) + \" (\" + plan + \")\")\n",
    "\n",
    "\n"
   ]
  },
  {
   "cell_type": "code",
   "execution_count": 58,
   "id": "0152b3a7",
   "metadata": {},
   "outputs": [
    {
     "name": "stdout",
     "output_type": "stream",
     "text": [
      "attendance percentage:  75.0\n",
      "Eligible\n"
     ]
    }
   ],
   "source": [
    "# 26. Exam Eligibility\n",
    "# A student must have at least 75% attendance to sit for the exam.\n",
    "# Write a program that takes total classes and classes attended as input and prints whether the student is eligible or not eligible.\n",
    "t = int(input(\"Total classes: \"))\n",
    "a = int(input(\"Attended classes: \"))\n",
    "x= a*100/t \n",
    "print(\"attendance percentage: \", x)\n",
    "if x>=75:\n",
    "    print(\"Eligible\")\n",
    "else:\n",
    "    print(\"Not Eligible\")\n"
   ]
  },
  {
   "cell_type": "code",
   "execution_count": 60,
   "id": "0e842189",
   "metadata": {},
   "outputs": [
    {
     "name": "stdout",
     "output_type": "stream",
     "text": [
      "Transaction Failed\n"
     ]
    }
   ],
   "source": [
    "# 27. ATM Withdrawal\n",
    "# An ATM only allows withdrawals in multiples of 100.\n",
    "# Write a program that takes the withdrawal amount and prints whether the transaction is successful or failed.\n",
    "amt = int(input(\"Enter amount: \"))\n",
    "if amt % 100 == 0:\n",
    "    print(\"Transaction Successful\")\n",
    "else:\n",
    "    print(\"Transaction Failed\")\n"
   ]
  },
  {
   "cell_type": "code",
   "execution_count": 64,
   "id": "3f1138c1",
   "metadata": {},
   "outputs": [
    {
     "name": "stdout",
     "output_type": "stream",
     "text": [
      "Too hot, stay indoors!\n"
     ]
    }
   ],
   "source": [
    "# 28. Weather Suggestion\n",
    "# Write a program that takes the temperature as input and gives a suggestion:\n",
    "# 35 → \"Too hot, stay indoors!\"\n",
    "# 20–35 → \"Nice weather, go out!\"\n",
    "# < 20 → \"It’s cold, wear warm clothes!\"\n",
    "temp = int(input(\"Enter temperature: \"))\n",
    "if temp >=35:\n",
    "    print(\"Too hot, stay indoors!\")\n",
    "elif 20 <= temp < 35:\n",
    "    print(\"Nice weather, go out!\")\n",
    "else:\n",
    "    print(\"It's cold, wear warm clothes!\")\n"
   ]
  },
  {
   "cell_type": "code",
   "execution_count": 67,
   "id": "dd8d51cc",
   "metadata": {},
   "outputs": [
    {
     "name": "stdout",
     "output_type": "stream",
     "text": [
      "late by: 8 days\n",
      "Fine: ₹50\n"
     ]
    }
   ],
   "source": [
    "# 29. Library Fine\n",
    "# A library charges a fine for late book returns:\n",
    "# 1–5 days → ₹10\n",
    "# 6–10 days → ₹50\n",
    "# 10 days → ₹100\n",
    "# Write a program that takes the number of late days as input and prints the fine amount.\n",
    "days = int(input(\"Enter number of late days: \"))\n",
    "print(\"late by:\", days, \"days\")\n",
    "if 1 <= days <= 5:\n",
    "    print(\"Fine: ₹10\")\n",
    "elif 6 <= days <= 10:\n",
    "    print(\"Fine: ₹50\")\n",
    "elif days > 10:\n",
    "    print(\"Fine: ₹100\")\n",
    "else:\n",
    "    print(\"No fine\")\n"
   ]
  },
  {
   "cell_type": "code",
   "execution_count": 69,
   "id": "22eaf6c5",
   "metadata": {},
   "outputs": [
    {
     "name": "stdout",
     "output_type": "stream",
     "text": [
      "units consumed: 230\n",
      "Bill amount: ₹ 1500\n"
     ]
    }
   ],
   "source": [
    "# 30. Electricity Bill Calculator\n",
    "# An electricity board charges:\n",
    "# First 100 units → ₹5 per unit\n",
    "# Next 100 units (101–200) → ₹7 per unit\n",
    "# Above 200 units → ₹10 per unit\n",
    "# Write a program that takes units consumed as input and prints the bill amount.\n",
    "u = int(input(\"Enter units consumed: \"))\n",
    "print(\"units consumed:\", u)\n",
    "if u <= 100:\n",
    "    b = u * 5\n",
    "elif u <= 200:\n",
    "    b = 100*5 + (u-100)*7\n",
    "else:\n",
    "    b = 100*5 + 100*7 + (u-200)*10\n",
    "print(\"Bill amount: ₹\", b)\n",
    "\n",
    "\n"
   ]
  },
  {
   "cell_type": "code",
   "execution_count": null,
   "id": "ff0dfa3f",
   "metadata": {},
   "outputs": [],
   "source": []
  }
 ],
 "metadata": {
  "kernelspec": {
   "display_name": "Python 3",
   "language": "python",
   "name": "python3"
  },
  "language_info": {
   "codemirror_mode": {
    "name": "ipython",
    "version": 3
   },
   "file_extension": ".py",
   "mimetype": "text/x-python",
   "name": "python",
   "nbconvert_exporter": "python",
   "pygments_lexer": "ipython3",
   "version": "3.11.0"
  }
 },
 "nbformat": 4,
 "nbformat_minor": 5
}
